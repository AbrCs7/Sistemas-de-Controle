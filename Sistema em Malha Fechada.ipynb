{
  "nbformat": 4,
  "nbformat_minor": 0,
  "metadata": {
    "colab": {
      "provenance": []
    },
    "kernelspec": {
      "name": "python3",
      "display_name": "Python 3"
    },
    "language_info": {
      "name": "python"
    }
  },
  "cells": [
    {
      "cell_type": "code",
      "execution_count": null,
      "metadata": {
        "colab": {
          "base_uri": "https://localhost:8080/"
        },
        "collapsed": true,
        "id": "ow37XHvNqso4",
        "outputId": "03a591c8-2ed2-4f9f-81e0-0bf7754d912d"
      },
      "outputs": [
        {
          "output_type": "stream",
          "name": "stdout",
          "text": [
            "Collecting control\n",
            "  Downloading control-0.10.1-py3-none-any.whl.metadata (7.6 kB)\n",
            "Requirement already satisfied: numpy>=1.23 in /usr/local/lib/python3.10/dist-packages (from control) (1.26.4)\n",
            "Requirement already satisfied: scipy>=1.8 in /usr/local/lib/python3.10/dist-packages (from control) (1.13.1)\n",
            "Requirement already satisfied: matplotlib>=3.6 in /usr/local/lib/python3.10/dist-packages (from control) (3.7.1)\n",
            "Requirement already satisfied: contourpy>=1.0.1 in /usr/local/lib/python3.10/dist-packages (from matplotlib>=3.6->control) (1.3.0)\n",
            "Requirement already satisfied: cycler>=0.10 in /usr/local/lib/python3.10/dist-packages (from matplotlib>=3.6->control) (0.12.1)\n",
            "Requirement already satisfied: fonttools>=4.22.0 in /usr/local/lib/python3.10/dist-packages (from matplotlib>=3.6->control) (4.53.1)\n",
            "Requirement already satisfied: kiwisolver>=1.0.1 in /usr/local/lib/python3.10/dist-packages (from matplotlib>=3.6->control) (1.4.5)\n",
            "Requirement already satisfied: packaging>=20.0 in /usr/local/lib/python3.10/dist-packages (from matplotlib>=3.6->control) (24.1)\n",
            "Requirement already satisfied: pillow>=6.2.0 in /usr/local/lib/python3.10/dist-packages (from matplotlib>=3.6->control) (9.4.0)\n",
            "Requirement already satisfied: pyparsing>=2.3.1 in /usr/local/lib/python3.10/dist-packages (from matplotlib>=3.6->control) (3.1.4)\n",
            "Requirement already satisfied: python-dateutil>=2.7 in /usr/local/lib/python3.10/dist-packages (from matplotlib>=3.6->control) (2.8.2)\n",
            "Requirement already satisfied: six>=1.5 in /usr/local/lib/python3.10/dist-packages (from python-dateutil>=2.7->matplotlib>=3.6->control) (1.16.0)\n",
            "Downloading control-0.10.1-py3-none-any.whl (549 kB)\n",
            "\u001b[2K   \u001b[90m━━━━━━━━━━━━━━━━━━━━━━━━━━━━━━━━━━━━━━━━\u001b[0m \u001b[32m549.6/549.6 kB\u001b[0m \u001b[31m6.9 MB/s\u001b[0m eta \u001b[36m0:00:00\u001b[0m\n",
            "\u001b[?25hInstalling collected packages: control\n",
            "Successfully installed control-0.10.1\n"
          ]
        }
      ],
      "source": [
        "pip install control"
      ]
    },
    {
      "cell_type": "markdown",
      "source": [
        "# Importar Bibliotecas necessárias"
      ],
      "metadata": {
        "id": "0gRZ2I4GrKtY"
      }
    },
    {
      "cell_type": "code",
      "source": [
        "import control as ctl\n",
        "import matplotlib.pyplot as plt\n",
        "import numpy as np"
      ],
      "metadata": {
        "id": "48KmGROTrStV"
      },
      "execution_count": null,
      "outputs": []
    },
    {
      "cell_type": "markdown",
      "source": [
        "# Criar função de transferência em malha aberta"
      ],
      "metadata": {
        "id": "IwB-vg0orejR"
      }
    },
    {
      "cell_type": "code",
      "source": [
        "R=20.0e3; C=10.0e-6; tau=R*C; Tsim=1;\n",
        "numerador = [1/tau]; denominador =[1.,1/tau] #Cria os vetores que serão polinômios\n",
        "P_s = ctl.tf(numerador, denominador)         #Usa os vetores para criar P_s\n",
        "print('FT em malha aberta = ', P_s)          #Mostra a FTMA"
      ],
      "metadata": {
        "colab": {
          "base_uri": "https://localhost:8080/"
        },
        "collapsed": true,
        "id": "AxiOIw6Frjd2",
        "outputId": "738ee4ee-cde1-49ee-f055-06ddf4eeb3b7"
      },
      "execution_count": null,
      "outputs": [
        {
          "output_type": "stream",
          "name": "stdout",
          "text": [
            "FT em malha aberta =  <TransferFunction>: sys[2]\n",
            "Inputs (1): ['u[0]']\n",
            "Outputs (1): ['y[0]']\n",
            "\n",
            "\n",
            "  5\n",
            "-----\n",
            "s + 5\n",
            "\n"
          ]
        }
      ]
    },
    {
      "cell_type": "markdown",
      "source": [
        "# Criar a função de transferência do controlador\n",
        "\n"
      ],
      "metadata": {
        "id": "An9uoG36syAp"
      }
    },
    {
      "cell_type": "code",
      "source": [
        "C_s = ctl.tf([3.],[1.])\n",
        "#print('FT do controlador = ', C_s)"
      ],
      "metadata": {
        "collapsed": true,
        "id": "Q9aKC4xztG_R"
      },
      "execution_count": null,
      "outputs": []
    },
    {
      "cell_type": "markdown",
      "source": [
        "# Cria a função de Transferência da Realimentação (Sensor)"
      ],
      "metadata": {
        "id": "0Fdem_A8tc2Q"
      }
    },
    {
      "cell_type": "code",
      "source": [
        "H_s = ctl.tf([1.],[1.])\n",
        "#print('FT do controlador = ', H_s)"
      ],
      "metadata": {
        "id": "KicLwu-7tioq"
      },
      "execution_count": null,
      "outputs": []
    },
    {
      "cell_type": "markdown",
      "source": [
        "# Função de transferência de malha fechada"
      ],
      "metadata": {
        "id": "IXcv1Bx2uBep"
      }
    },
    {
      "cell_type": "code",
      "source": [
        "#G1_s = (C_s*P_s)/(1+C_s*P_s*H_s)\n",
        "G_s = ctl.series(C_s, P_s);\n",
        "G1_s = ctl.feedback(G_s, H_s, sign = -1);\n",
        "print('FT em malha fechada = ', G1_s)"
      ],
      "metadata": {
        "colab": {
          "base_uri": "https://localhost:8080/"
        },
        "collapsed": true,
        "id": "X1bpfKJZuHp5",
        "outputId": "daa4343b-df35-41f1-a9f1-0ba8e4336424"
      },
      "execution_count": null,
      "outputs": [
        {
          "output_type": "stream",
          "name": "stdout",
          "text": [
            "FT em malha fechada =  <TransferFunction>: sys[6]\n",
            "Inputs (1): ['u[0]']\n",
            "Outputs (1): ['y[0]']\n",
            "\n",
            "\n",
            "  15\n",
            "------\n",
            "s + 20\n",
            "\n"
          ]
        }
      ]
    },
    {
      "cell_type": "markdown",
      "source": [
        "# Calcular a resposta ao degrau"
      ],
      "metadata": {
        "id": "OsUZkj87u7fj"
      }
    },
    {
      "cell_type": "code",
      "source": [
        "T_mf, yout_mf = ctl.step_response(G1_s, Tsim)  # Calcula a resposta ao degrau (step) para Tsim e G1_s"
      ],
      "metadata": {
        "id": "Ch8qSkdHu_FR"
      },
      "execution_count": null,
      "outputs": []
    },
    {
      "cell_type": "markdown",
      "source": [
        "# Calcula um degrau unitário"
      ],
      "metadata": {
        "id": "6U6uiS58vVrJ"
      }
    },
    {
      "cell_type": "code",
      "source": [
        "T2 = np.linspace(-0.2, Tsim, 1000)\n",
        "degrau = np.ones_like(T2)\n",
        "degrau[T2 < 0] = 0;"
      ],
      "metadata": {
        "id": "EeD1hDvWvbtL"
      },
      "execution_count": null,
      "outputs": []
    },
    {
      "cell_type": "markdown",
      "source": [
        "# Plotar resultados"
      ],
      "metadata": {
        "id": "GV14JWUsvyRm"
      }
    },
    {
      "cell_type": "code",
      "source": [
        "plt.plot(T_mf, yout_mf, 'b-')\n",
        "plt.plot(T2, degrau, 'r-')\n",
        "plt.ylabel('V(V)'); plt.xlabel('Tempo (s)')\n",
        "plt.legend(['Resposta ao degrau','degrau unitário'])\n",
        "plt.title('Circuito RC em malha fechada')\n",
        "plt.grid"
      ],
      "metadata": {
        "colab": {
          "base_uri": "https://localhost:8080/",
          "height": 642
        },
        "id": "cmxMgF7Nv3AV",
        "outputId": "f70298b8-aefa-409a-a2d7-3f723493e860"
      },
      "execution_count": null,
      "outputs": [
        {
          "output_type": "execute_result",
          "data": {
            "text/plain": [
              "<function matplotlib.pyplot.grid(visible=None, which='major', axis='both', **kwargs)>"
            ],
            "text/html": [
              "<div style=\"max-width:800px; border: 1px solid var(--colab-border-color);\"><style>\n",
              "      pre.function-repr-contents {\n",
              "        overflow-x: auto;\n",
              "        padding: 8px 12px;\n",
              "        max-height: 500px;\n",
              "      }\n",
              "\n",
              "      pre.function-repr-contents.function-repr-contents-collapsed {\n",
              "        cursor: pointer;\n",
              "        max-height: 100px;\n",
              "      }\n",
              "    </style>\n",
              "    <pre style=\"white-space: initial; background:\n",
              "         var(--colab-secondary-surface-color); padding: 8px 12px;\n",
              "         border-bottom: 1px solid var(--colab-border-color);\"><b>matplotlib.pyplot.grid</b><br/>def grid(visible=None, which=&#x27;major&#x27;, axis=&#x27;both&#x27;, **kwargs)</pre><pre class=\"function-repr-contents function-repr-contents-collapsed\" style=\"\"><a class=\"filepath\" style=\"display:none\" href=\"#\">/usr/local/lib/python3.10/dist-packages/matplotlib/pyplot.py</a>Configure the grid lines.\n",
              "\n",
              "Parameters\n",
              "----------\n",
              "visible : bool or None, optional\n",
              "    Whether to show the grid lines.  If any *kwargs* are supplied, it\n",
              "    is assumed you want the grid on and *visible* will be set to True.\n",
              "\n",
              "    If *visible* is *None* and there are no *kwargs*, this toggles the\n",
              "    visibility of the lines.\n",
              "\n",
              "which : {&#x27;major&#x27;, &#x27;minor&#x27;, &#x27;both&#x27;}, optional\n",
              "    The grid lines to apply the changes on.\n",
              "\n",
              "axis : {&#x27;both&#x27;, &#x27;x&#x27;, &#x27;y&#x27;}, optional\n",
              "    The axis to apply the changes on.\n",
              "\n",
              "**kwargs : `.Line2D` properties\n",
              "    Define the line properties of the grid, e.g.::\n",
              "\n",
              "        grid(color=&#x27;r&#x27;, linestyle=&#x27;-&#x27;, linewidth=2)\n",
              "\n",
              "    Valid keyword arguments are:\n",
              "\n",
              "    Properties:\n",
              "    agg_filter: a filter function, which takes a (m, n, 3) float array and a dpi value, and returns a (m, n, 3) array and two offsets from the bottom left corner of the image\n",
              "    alpha: scalar or None\n",
              "    animated: bool\n",
              "    antialiased or aa: bool\n",
              "    clip_box: `.Bbox`\n",
              "    clip_on: bool\n",
              "    clip_path: Patch or (Path, Transform) or None\n",
              "    color or c: color\n",
              "    dash_capstyle: `.CapStyle` or {&#x27;butt&#x27;, &#x27;projecting&#x27;, &#x27;round&#x27;}\n",
              "    dash_joinstyle: `.JoinStyle` or {&#x27;miter&#x27;, &#x27;round&#x27;, &#x27;bevel&#x27;}\n",
              "    dashes: sequence of floats (on/off ink in points) or (None, None)\n",
              "    data: (2, N) array or two 1D arrays\n",
              "    drawstyle or ds: {&#x27;default&#x27;, &#x27;steps&#x27;, &#x27;steps-pre&#x27;, &#x27;steps-mid&#x27;, &#x27;steps-post&#x27;}, default: &#x27;default&#x27;\n",
              "    figure: `.Figure`\n",
              "    fillstyle: {&#x27;full&#x27;, &#x27;left&#x27;, &#x27;right&#x27;, &#x27;bottom&#x27;, &#x27;top&#x27;, &#x27;none&#x27;}\n",
              "    gapcolor: color or None\n",
              "    gid: str\n",
              "    in_layout: bool\n",
              "    label: object\n",
              "    linestyle or ls: {&#x27;-&#x27;, &#x27;--&#x27;, &#x27;-.&#x27;, &#x27;:&#x27;, &#x27;&#x27;, (offset, on-off-seq), ...}\n",
              "    linewidth or lw: float\n",
              "    marker: marker style string, `~.path.Path` or `~.markers.MarkerStyle`\n",
              "    markeredgecolor or mec: color\n",
              "    markeredgewidth or mew: float\n",
              "    markerfacecolor or mfc: color\n",
              "    markerfacecoloralt or mfcalt: color\n",
              "    markersize or ms: float\n",
              "    markevery: None or int or (int, int) or slice or list[int] or float or (float, float) or list[bool]\n",
              "    mouseover: bool\n",
              "    path_effects: `.AbstractPathEffect`\n",
              "    picker: float or callable[[Artist, Event], tuple[bool, dict]]\n",
              "    pickradius: unknown\n",
              "    rasterized: bool\n",
              "    sketch_params: (scale: float, length: float, randomness: float)\n",
              "    snap: bool or None\n",
              "    solid_capstyle: `.CapStyle` or {&#x27;butt&#x27;, &#x27;projecting&#x27;, &#x27;round&#x27;}\n",
              "    solid_joinstyle: `.JoinStyle` or {&#x27;miter&#x27;, &#x27;round&#x27;, &#x27;bevel&#x27;}\n",
              "    transform: unknown\n",
              "    url: str\n",
              "    visible: bool\n",
              "    xdata: 1D array\n",
              "    ydata: 1D array\n",
              "    zorder: float\n",
              "\n",
              "Notes\n",
              "-----\n",
              "The axis is drawn as a unit, so the effective zorder for drawing the\n",
              "grid is determined by the zorder of each axis, not by the zorder of the\n",
              "`.Line2D` objects comprising the grid.  Therefore, to set grid zorder,\n",
              "use `.set_axisbelow` or, for more control, call the\n",
              "`~.Artist.set_zorder` method of each axis.</pre>\n",
              "      <script>\n",
              "      if (google.colab.kernel.accessAllowed && google.colab.files && google.colab.files.view) {\n",
              "        for (const element of document.querySelectorAll('.filepath')) {\n",
              "          element.style.display = 'block'\n",
              "          element.onclick = (event) => {\n",
              "            event.preventDefault();\n",
              "            event.stopPropagation();\n",
              "            google.colab.files.view(element.textContent, 2614);\n",
              "          };\n",
              "        }\n",
              "      }\n",
              "      for (const element of document.querySelectorAll('.function-repr-contents')) {\n",
              "        element.onclick = (event) => {\n",
              "          event.preventDefault();\n",
              "          event.stopPropagation();\n",
              "          element.classList.toggle('function-repr-contents-collapsed');\n",
              "        };\n",
              "      }\n",
              "      </script>\n",
              "      </div>"
            ]
          },
          "metadata": {},
          "execution_count": 11
        },
        {
          "output_type": "display_data",
          "data": {
            "text/plain": [
              "<Figure size 640x480 with 1 Axes>"
            ],
            "image/png": "[encoded data removed]"
          },
          "metadata": {}
        }
      ]
    }
  ]
}
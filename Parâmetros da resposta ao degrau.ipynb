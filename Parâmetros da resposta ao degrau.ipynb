{
  "nbformat": 4,
  "nbformat_minor": 0,
  "metadata": {
    "colab": {
      "provenance": []
    },
    "kernelspec": {
      "name": "python3",
      "display_name": "Python 3"
    },
    "language_info": {
      "name": "python"
    }
  },
  "cells": [
    {
      "cell_type": "code",
      "source": [
        "pip install control"
      ],
      "metadata": {
        "colab": {
          "base_uri": "https://localhost:8080/"
        },
        "collapsed": true,
        "id": "zY3X8da5CYGF",
        "outputId": "ea2a63cd-0d5c-4474-def9-c701b6276f06"
      },
      "execution_count": null,
      "outputs": [
        {
          "output_type": "stream",
          "name": "stdout",
          "text": [
            "Collecting control\n",
            "  Downloading control-0.10.1-py3-none-any.whl.metadata (7.6 kB)\n",
            "Requirement already satisfied: numpy>=1.23 in /usr/local/lib/python3.10/dist-packages (from control) (1.26.4)\n",
            "Requirement already satisfied: scipy>=1.8 in /usr/local/lib/python3.10/dist-packages (from control) (1.13.1)\n",
            "Requirement already satisfied: matplotlib>=3.6 in /usr/local/lib/python3.10/dist-packages (from control) (3.7.1)\n",
            "Requirement already satisfied: contourpy>=1.0.1 in /usr/local/lib/python3.10/dist-packages (from matplotlib>=3.6->control) (1.3.0)\n",
            "Requirement already satisfied: cycler>=0.10 in /usr/local/lib/python3.10/dist-packages (from matplotlib>=3.6->control) (0.12.1)\n",
            "Requirement already satisfied: fonttools>=4.22.0 in /usr/local/lib/python3.10/dist-packages (from matplotlib>=3.6->control) (4.54.1)\n",
            "Requirement already satisfied: kiwisolver>=1.0.1 in /usr/local/lib/python3.10/dist-packages (from matplotlib>=3.6->control) (1.4.7)\n",
            "Requirement already satisfied: packaging>=20.0 in /usr/local/lib/python3.10/dist-packages (from matplotlib>=3.6->control) (24.1)\n",
            "Requirement already satisfied: pillow>=6.2.0 in /usr/local/lib/python3.10/dist-packages (from matplotlib>=3.6->control) (10.4.0)\n",
            "Requirement already satisfied: pyparsing>=2.3.1 in /usr/local/lib/python3.10/dist-packages (from matplotlib>=3.6->control) (3.2.0)\n",
            "Requirement already satisfied: python-dateutil>=2.7 in /usr/local/lib/python3.10/dist-packages (from matplotlib>=3.6->control) (2.8.2)\n",
            "Requirement already satisfied: six>=1.5 in /usr/local/lib/python3.10/dist-packages (from python-dateutil>=2.7->matplotlib>=3.6->control) (1.16.0)\n",
            "Downloading control-0.10.1-py3-none-any.whl (549 kB)\n",
            "\u001b[2K   \u001b[90m━━━━━━━━━━━━━━━━━━━━━━━━━━━━━━━━━━━━━━━━\u001b[0m \u001b[32m549.6/549.6 kB\u001b[0m \u001b[31m6.1 MB/s\u001b[0m eta \u001b[36m0:00:00\u001b[0m\n",
            "\u001b[?25hInstalling collected packages: control\n",
            "Successfully installed control-0.10.1\n"
          ]
        }
      ]
    },
    {
      "cell_type": "code",
      "execution_count": null,
      "metadata": {
        "id": "DMbP6bfK5nZP"
      },
      "outputs": [],
      "source": [
        "import control as ctl\n",
        "import matplotlib.pyplot as plt\n",
        "import numpy as np"
      ]
    },
    {
      "cell_type": "markdown",
      "source": [
        "## Função para obtenção dos parâmetros"
      ],
      "metadata": {
        "id": "3TTJ-BmJ7rJj"
      }
    },
    {
      "cell_type": "code",
      "source": [
        "def my_step_info(t,curva):\n",
        "  peak_time=t[np.argmax(curva)];\n",
        "  Overshoot=(curva.max()/curva[-1]-1)*100\n",
        "  for i in range(0,len(curva)-1):\n",
        "    if(curva[i]>curva[-1]*.10):\n",
        "      i_10=i\n",
        "      break\n",
        "  for i in range(0,len(curva)-1):\n",
        "    if(curva[i]>curva[-1]*.90):\n",
        "      i_90=i\n",
        "      break\n",
        "  Rise_Time=(t[i_90]-t[i_10])\n",
        "  for i in range(2,len(curva)-1):\n",
        "    if(abs(curva[-i]/curva[-1])>1.02) or (abs(curva[-i]/curva[-1])<0.98):\n",
        "      qst=i\n",
        "      break\n",
        "  Settling_Time=(t[len(curva)-qst])\n",
        "  return peak_time, Overshoot, Rise_Time, Settling_Time"
      ],
      "metadata": {
        "id": "1WpazlMP70VU"
      },
      "execution_count": null,
      "outputs": []
    },
    {
      "cell_type": "markdown",
      "source": [
        "## Cria a função de transferênca\n"
      ],
      "metadata": {
        "id": "aDi9Lhtu9k1K"
      }
    },
    {
      "cell_type": "code",
      "source": [
        "Tsim = 10;\n",
        "quais_T = np.linspace(-1.,Tsim,1000)\n",
        "\n",
        "H_s = ctl.tf([9.],[1.,3.,9.])\n",
        "print('FT = ',H_s)"
      ],
      "metadata": {
        "colab": {
          "base_uri": "https://localhost:8080/"
        },
        "id": "Ewpgk1jt_byl",
        "outputId": "8835df1c-cc39-457f-b01d-ab80e1828c94"
      },
      "execution_count": null,
      "outputs": [
        {
          "output_type": "stream",
          "name": "stdout",
          "text": [
            "FT =  <TransferFunction>: sys[1]\n",
            "Inputs (1): ['u[0]']\n",
            "Outputs (1): ['y[0]']\n",
            "\n",
            "\n",
            "      9\n",
            "-------------\n",
            "s^2 + 3 s + 9\n",
            "\n"
          ]
        }
      ]
    },
    {
      "cell_type": "markdown",
      "source": [
        "## Obtém os parâmetros da resposta ao degrau"
      ],
      "metadata": {
        "id": "orRIdNTD_3hA"
      }
    },
    {
      "cell_type": "code",
      "source": [
        "T_mf,yout_mf = ctl.step_response(H_s, quais_T[quais_T > 0])\n",
        "tp,os,tr,ts = my_step_info(T_mf,yout_mf)\n",
        "print('peak time = {:0.2f} s'.format(tp))\n",
        "print('Overshoot = {:0.2f} %'.format(os))\n",
        "print('Rise Time = {:0.2f} s'.format(tr))\n",
        "print('Settling Time = {:0.2f} s'.format(ts))"
      ],
      "metadata": {
        "colab": {
          "base_uri": "https://localhost:8080/"
        },
        "id": "va3T1tyX_8My",
        "outputId": "3366e837-d4c8-4440-86f0-ed34f8a77fe7"
      },
      "execution_count": null,
      "outputs": [
        {
          "output_type": "stream",
          "name": "stdout",
          "text": [
            "peak time = 1.21 s\n",
            "Overshoot = 16.30 %\n",
            "Rise Time = 0.55 s\n",
            "Settling Time = 2.69 s\n"
          ]
        }
      ]
    },
    {
      "cell_type": "markdown",
      "source": [
        "## Plotar os Resultados"
      ],
      "metadata": {
        "id": "PV7cOZiJAbwD"
      }
    },
    {
      "cell_type": "code",
      "source": [
        "plt.figure()\n",
        "plt.plot(T_mf,yout_mf,'b-')\n",
        "plt.xlabel('Tempo (s)')\n",
        "plt.legend(['Resposta ao DEgrau'])\n",
        "plt.grid()\n",
        "plt.title('Sistema H(s)')"
      ],
      "metadata": {
        "colab": {
          "base_uri": "https://localhost:8080/",
          "height": 490
        },
        "id": "M2wzSRtQA-Cq",
        "outputId": "cc3a2e9a-75ad-48be-ce05-d4035b3b5aa4"
      },
      "execution_count": null,
      "outputs": [
        {
          "output_type": "execute_result",
          "data": {
            "text/plain": [
              "Text(0.5, 1.0, 'Sistema H(s)')"
            ]
          },
          "metadata": {},
          "execution_count": 9
        },
        {
          "output_type": "display_data",
          "data": {
            "text/plain": [
              "<Figure size 640x480 with 1 Axes>"
            ],
            "image/png": "[encoded data removed]"
          },
          "metadata": {}
        }
      ]
    }
  ]
}